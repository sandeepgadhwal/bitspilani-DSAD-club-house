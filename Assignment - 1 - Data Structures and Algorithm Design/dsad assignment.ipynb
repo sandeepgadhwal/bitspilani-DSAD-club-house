{
 "cells": [
  {
   "cell_type": "code",
   "execution_count": 44,
   "metadata": {},
   "outputs": [],
   "source": [
    "import os\n",
    "import time"
   ]
  },
  {
   "cell_type": "code",
   "execution_count": null,
   "metadata": {},
   "outputs": [],
   "source": []
  },
  {
   "cell_type": "code",
   "execution_count": 211,
   "metadata": {},
   "outputs": [],
   "source": [
    "# All lambda Functions here\n",
    "def initialize_hash():\n",
    "    mapping_data = [\n",
    "        [], # name list\n",
    "        [], # phone list\n",
    "        [], # member referece list\n",
    "        [],  # application status list\n",
    "        ['name', 'phone', 'memRef', 'status']\n",
    "    ]\n",
    "    return mapping_data\n",
    "\n",
    "# This class will be used to track performance of our main class\n",
    "class Analyzer(object):\n",
    "    def __init__(self, output_file='analysisPS8_timestamps.txt'):\n",
    "        super(clubHouseTracker).__init__()\n",
    "        self.start_counter()\n",
    "        self.output_file = os.path.abspath(output_file)\n",
    "        self.write_output('initialized analyzer', 0,'w')\n",
    "    \n",
    "    def write_output(self, function_name, time_taken=None, mode='a'):\n",
    "        if time_taken is None:\n",
    "            time_taken = time.time() - self.time\n",
    "        with open(self.output_file, mode) as f:\n",
    "            f.write(f'\\nfunction {function_name} took {time_taken} seconds')\n",
    "    \n",
    "    def start_counter(self):\n",
    "        self.time = time.time()\n",
    "        \n",
    "        "
   ]
  },
  {
   "cell_type": "code",
   "execution_count": null,
   "metadata": {},
   "outputs": [],
   "source": []
  },
  {
   "cell_type": "code",
   "execution_count": 212,
   "metadata": {},
   "outputs": [],
   "source": [
    "# Main Class\n",
    "class clubHouseTracker(object):\n",
    "    def __init__(self, output_file='outputPS8.txt'):\n",
    "        super(clubHouseTracker).__init__()\n",
    "        self.output_file = os.path.abspath(output_file)\n",
    "        self._writeOutput('', 'w')\n",
    "        \n",
    "    def _writeOutput(self, output, mode='a'):\n",
    "        with open(self.output_file, mode) as f:\n",
    "            f.write(output)\n",
    "            \n",
    "    def _nextHashId(self):\n",
    "        return len(self.data[0])\n",
    "            \n",
    "    def initializeHash(self):\n",
    "        self.data = initialize_hash()\n",
    "        \n",
    "    def hashId(self, name):\n",
    "        return self.data[0].index(name)\n",
    "    \n",
    "    def insertAppDetails(self, name, phone, memRef, status):\n",
    "        hash_id = self._nextHashId()\n",
    "        self.data[0].append(name)\n",
    "        self.data[1].append(phone)\n",
    "        self.data[2].append(memRef)\n",
    "        self.data[3].append(status)\n",
    "        return hash_id\n",
    "    \n",
    "    def updateAppDetails(self, name, phone=None, memRef=None, status=None):\n",
    "        hash_id = self.hashId(name)\n",
    "        if hash_id > -1:\n",
    "            fields_to_update = []\n",
    "            for i, (field, field_data) in enumerate(zip(self.data[-1], [name, phone, memRef, status])):\n",
    "                if i > 0 and field_data is not None:\n",
    "                    fields_to_update.append(field)\n",
    "                    self.data[i][hash_id] = field_data\n",
    "            fields_updated = ', '.join(fields_to_update)\n",
    "            write_text = f\"\"\"\\nUpdated details of {name}. { fields_updated } has been changed.\"\"\"\n",
    "            self._writeOutput(write_text)\n",
    "            return True      \n",
    "        else:\n",
    "            return False\n",
    "    \n",
    "    def _memRef(self, memID):\n",
    "        members = []\n",
    "        for i, j in enumerate(self.data[2]):\n",
    "            if j == memID:\n",
    "                members.append(i)\n",
    "        return members\n",
    "        \n",
    "    def memRef(self, memID):\n",
    "        members = self._memRef(memID)\n",
    "        rows = []\n",
    "        for i in members:\n",
    "            line = f\"{self.data[0][i]} / {self.data[1][i]} / {self.data[3][1]}\"\n",
    "            rows.append(line)\n",
    "        rows = '\\n'.join(rows)\n",
    "        output_text = f\"\"\"\\n\\n---------- Member reference by {memID} ----------\\n{rows}\\n-------------------------------------\"\"\"\n",
    "        self._writeOutput(output_text)\n",
    "        print(output_text)\n",
    "        \n",
    "    def appStatus(self):\n",
    "        stats = [0, 0, 0]\n",
    "        for status in self.data[3]:\n",
    "            if status == 'Applied':\n",
    "                stats[0]+=1\n",
    "            elif status == 'Verified':\n",
    "                stats[1]+=1\n",
    "            else:\n",
    "                stats[2]+=1\n",
    "            \n",
    "        output_text = f\"\"\"\\n\\n---------- Application Status ----------\\nApplied: {stats[0]}\\nVerified: {stats[1]}\\nApproved: {stats[2]}\\n-------------------------------------\"\"\"\n",
    "        self._writeOutput(output_text)\n",
    "        print(output_text)\n",
    "    \n",
    "    def destroyHash(self):\n",
    "        self.initializeHash()\n",
    "            \n",
    "    \n",
    "    "
   ]
  },
  {
   "cell_type": "code",
   "execution_count": null,
   "metadata": {},
   "outputs": [],
   "source": []
  },
  {
   "cell_type": "code",
   "execution_count": null,
   "metadata": {},
   "outputs": [],
   "source": []
  },
  {
   "cell_type": "code",
   "execution_count": 213,
   "metadata": {},
   "outputs": [],
   "source": [
    "# Initialize analyzer\n",
    "analyze = Analyzer()"
   ]
  },
  {
   "cell_type": "code",
   "execution_count": 214,
   "metadata": {},
   "outputs": [],
   "source": [
    "# Initialize Main Class\n",
    "analyze.start_counter()\n",
    "tracker = clubHouseTracker()\n",
    "analyze.write_output('intialized class clubHouseTracker')"
   ]
  },
  {
   "cell_type": "code",
   "execution_count": 215,
   "metadata": {},
   "outputs": [],
   "source": [
    "# Create Hash Table\n",
    "analyze.start_counter()\n",
    "tracker.initializeHash()\n",
    "analyze.write_output('initializeHash')"
   ]
  },
  {
   "cell_type": "code",
   "execution_count": 216,
   "metadata": {},
   "outputs": [],
   "source": [
    "# Insert Records in Table\n",
    "with open('inputPS8.txt') as f:\n",
    "    a = f.read()\n",
    "rows = a.split('\\n')\n",
    "analyze.start_counter()\n",
    "for row in rows:\n",
    "    values = [x.strip() for x in row.split('/')]\n",
    "    tracker.insertAppDetails(*values)\n",
    "analyze.write_output(f'insertAppDetails (inserted {len(rows)} records)')\n",
    "output_text = f\"\\nSuccessfully inserted {len(rows)} applications into the system.\"\n",
    "tracker._writeOutput(output_text)"
   ]
  },
  {
   "cell_type": "code",
   "execution_count": 217,
   "metadata": {},
   "outputs": [
    {
     "data": {
      "text/plain": [
       "[['Aravind Shetty',\n",
       "  'Deepak Prasad',\n",
       "  'Sandhya Raman',\n",
       "  'Joginder Singh',\n",
       "  'Vinay Shah'],\n",
       " ['9988112311', '9923212234', '9213231311', '8234219326', '9912356788'],\n",
       " ['11321', '', '11129', '21299', '11129'],\n",
       " ['Applied', 'Applied', 'Verified', 'Applied', 'Approved'],\n",
       " ['name', 'phone', 'memRef', 'status']]"
      ]
     },
     "execution_count": 217,
     "metadata": {},
     "output_type": "execute_result"
    }
   ],
   "source": [
    "tracker.data"
   ]
  },
  {
   "cell_type": "code",
   "execution_count": 218,
   "metadata": {},
   "outputs": [],
   "source": [
    "# Update Record in Table\n",
    "analyze.start_counter()\n",
    "tracker.updateAppDetails('Deepak Prasad', '9923212234', status='Verified')\n",
    "analyze.write_output(f'updateAppDetails (inserted {len(rows)} records)')"
   ]
  },
  {
   "cell_type": "code",
   "execution_count": 219,
   "metadata": {},
   "outputs": [
    {
     "name": "stdout",
     "output_type": "stream",
     "text": [
      "\n",
      "\n",
      "---------- Member reference by 11129 ----------\n",
      "Sandhya Raman / 9213231311 / Verified\n",
      "Vinay Shah / 9912356788 / Verified\n",
      "-------------------------------------\n"
     ]
    }
   ],
   "source": [
    "# get list of applicants reffered by a member\n",
    "analyze.start_counter()\n",
    "tracker.memRef('11129')\n",
    "analyze.write_output('memRef')"
   ]
  },
  {
   "cell_type": "code",
   "execution_count": 220,
   "metadata": {},
   "outputs": [
    {
     "name": "stdout",
     "output_type": "stream",
     "text": [
      "\n",
      "\n",
      "---------- Application Status ----------\n",
      "Applied: 2\n",
      "Verified: 2\n",
      "Approved: 1\n",
      "-------------------------------------\n"
     ]
    }
   ],
   "source": [
    "# get list of applicants reffered by a member\n",
    "analyze.start_counter()\n",
    "tracker.appStatus()\n",
    "analyze.write_output('appStatus')"
   ]
  },
  {
   "cell_type": "code",
   "execution_count": null,
   "metadata": {},
   "outputs": [],
   "source": []
  },
  {
   "cell_type": "code",
   "execution_count": null,
   "metadata": {},
   "outputs": [],
   "source": []
  },
  {
   "cell_type": "code",
   "execution_count": null,
   "metadata": {},
   "outputs": [],
   "source": []
  }
 ],
 "metadata": {
  "kernelspec": {
   "display_name": "Python 3",
   "language": "python",
   "name": "python3"
  },
  "language_info": {
   "codemirror_mode": {
    "name": "ipython",
    "version": 3
   },
   "file_extension": ".py",
   "mimetype": "text/x-python",
   "name": "python",
   "nbconvert_exporter": "python",
   "pygments_lexer": "ipython3",
   "version": "3.7.4"
  }
 },
 "nbformat": 4,
 "nbformat_minor": 2
}
